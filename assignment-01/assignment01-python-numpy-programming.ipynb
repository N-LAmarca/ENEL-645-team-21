{
 "cells": [
  {
   "cell_type": "markdown",
   "id": "68f22a51",
   "metadata": {},
   "source": [
    "# Assignment #01\n",
    "\n",
    "This assignment is composed of multiple Python and NumPy programming exercises. The deliverable of this assignment is this jupyter-notebook completed with your solution.\n",
    "\n",
    "The delivery instructions are the following:\n",
    "    - Create a GitHub repository for your team. You are free to choose its name. This repository will be used to delvier the programming assignments and the code of your team's final project.\n",
    "    - Create a folder assignment-01 in the repository. Put the jupyter-notebook with your solution in this repository and post the repository link in your team's D2L dropbox for the assignment.\n",
    "\n",
    "You are being assessed based on:\n",
    "\n",
    "1. Code execution - 25% \n",
    "2. Clarity of the code (e.g., easy to follow, has pertinent comments, etc.) - 25%\n",
    "3. Proper usage of the techniques seen in class - 25%\n",
    "    - remember to avoid explicit Python loops!  \n",
    "4. Quality and correcteness of the results - 25%\n",
    "\n",
    "More details about the assessment are available in the rubric document in the class GitHub repository.\n",
    "\n",
    "Points distribution:\n",
    "- Question 2-21: 3 points per question \n",
    "- Questions 22-26: 8 points per question (total 40)\n",
    "- Total: 100 ponits"
   ]
  },
  {
   "cell_type": "code",
   "execution_count": 1,
   "id": "00feb81a",
   "metadata": {},
   "outputs": [],
   "source": [
    "import matplotlib.pylab as plt"
   ]
  },
  {
   "cell_type": "markdown",
   "id": "a829e3d1",
   "metadata": {},
   "source": [
    "**1. Import the numpy package under the name np**"
   ]
  },
  {
   "cell_type": "code",
   "execution_count": 2,
   "id": "dc2ed242",
   "metadata": {},
   "outputs": [],
   "source": [
    "import numpy as np"
   ]
  },
  {
   "cell_type": "markdown",
   "id": "66d9e94c",
   "metadata": {},
   "source": [
    "**2. Print the numpy version and the configuration**"
   ]
  },
  {
   "cell_type": "code",
   "execution_count": 3,
   "id": "8e1aa444",
   "metadata": {},
   "outputs": [
    {
     "name": "stdout",
     "output_type": "stream",
     "text": [
      "The numpy version is: \n",
      "1.20.3\n",
      "The numpy configuration is: \n",
      "blas_mkl_info:\n",
      "    libraries = ['mkl_rt']\n",
      "    library_dirs = ['C:/Users/Oluwajolasun/anaconda3\\\\Library\\\\lib']\n",
      "    define_macros = [('SCIPY_MKL_H', None), ('HAVE_CBLAS', None)]\n",
      "    include_dirs = ['C:/Users/Oluwajolasun/anaconda3\\\\Library\\\\include']\n",
      "blas_opt_info:\n",
      "    libraries = ['mkl_rt']\n",
      "    library_dirs = ['C:/Users/Oluwajolasun/anaconda3\\\\Library\\\\lib']\n",
      "    define_macros = [('SCIPY_MKL_H', None), ('HAVE_CBLAS', None)]\n",
      "    include_dirs = ['C:/Users/Oluwajolasun/anaconda3\\\\Library\\\\include']\n",
      "lapack_mkl_info:\n",
      "    libraries = ['mkl_rt']\n",
      "    library_dirs = ['C:/Users/Oluwajolasun/anaconda3\\\\Library\\\\lib']\n",
      "    define_macros = [('SCIPY_MKL_H', None), ('HAVE_CBLAS', None)]\n",
      "    include_dirs = ['C:/Users/Oluwajolasun/anaconda3\\\\Library\\\\include']\n",
      "lapack_opt_info:\n",
      "    libraries = ['mkl_rt']\n",
      "    library_dirs = ['C:/Users/Oluwajolasun/anaconda3\\\\Library\\\\lib']\n",
      "    define_macros = [('SCIPY_MKL_H', None), ('HAVE_CBLAS', None)]\n",
      "    include_dirs = ['C:/Users/Oluwajolasun/anaconda3\\\\Library\\\\include']\n",
      "None\n"
     ]
    }
   ],
   "source": [
    "print(\"The numpy version is: \")\n",
    "print( np.__version__)\n",
    "print(\"The numpy configuration is: \")\n",
    "print(np.show_config())"
   ]
  },
  {
   "cell_type": "markdown",
   "id": "768ce33e",
   "metadata": {},
   "source": [
    "**3. Create a 1D array of zeros of size 10 of type float32**"
   ]
  },
  {
   "cell_type": "code",
   "execution_count": 4,
   "id": "c8bf6a8f",
   "metadata": {},
   "outputs": [
    {
     "name": "stdout",
     "output_type": "stream",
     "text": [
      "[0. 0. 0. 0. 0. 0. 0. 0. 0. 0.]\n"
     ]
    }
   ],
   "source": [
    "array = np.zeros((10), dtype = 'float32')\n",
    "print(array)"
   ]
  },
  {
   "cell_type": "markdown",
   "id": "e9fddae6",
   "metadata": {},
   "source": [
    "**4. Print the memory size of the array below**"
   ]
  },
  {
   "cell_type": "code",
   "execution_count": 5,
   "id": "afc6eaed",
   "metadata": {},
   "outputs": [
    {
     "name": "stdout",
     "output_type": "stream",
     "text": [
      "The memory size of Z in bytes is:  3072\n"
     ]
    }
   ],
   "source": [
    "Z = np.zeros((32,12))\n",
    "# Include your solution below\n",
    "Z_mem = Z.size * Z.itemsize\n",
    "print(\"The memory size of Z in bytes is: \", Z_mem)"
   ]
  },
  {
   "cell_type": "markdown",
   "id": "e7aa512b",
   "metadata": {},
   "source": [
    "**5. Create a 1D array with values ranging from 10 to 58**"
   ]
  },
  {
   "cell_type": "code",
   "execution_count": 6,
   "id": "ab0c9957",
   "metadata": {},
   "outputs": [
    {
     "name": "stdout",
     "output_type": "stream",
     "text": [
      "[10 11 12 13 14 15 16 17 18 19 20 21 22 23 24 25 26 27 28 29 30 31 32 33\n",
      " 34 35 36 37 38 39 40 41 42 43 44 45 46 47 48 49 50 51 52 53 54 55 56 57\n",
      " 58]\n"
     ]
    }
   ],
   "source": [
    "array = np.arange(10,59)\n",
    "print(array)"
   ]
  },
  {
   "cell_type": "markdown",
   "id": "29010684",
   "metadata": {},
   "source": [
    "**6. Reverse the order of the values in the vector (first element becomes last)**"
   ]
  },
  {
   "cell_type": "code",
   "execution_count": 7,
   "id": "2b23334f",
   "metadata": {},
   "outputs": [
    {
     "name": "stdout",
     "output_type": "stream",
     "text": [
      "[9 8 7 6 5 4 3 2 1 0]\n"
     ]
    }
   ],
   "source": [
    "a = np.arange(10)\n",
    "# Include your solution below\n",
    "a = a[::-1]\n",
    "print(a)"
   ]
  },
  {
   "cell_type": "markdown",
   "id": "1df355b8",
   "metadata": {},
   "source": [
    "**7. Create a 3x3 matrix with values ranging from 0 to 8**"
   ]
  },
  {
   "cell_type": "code",
   "execution_count": 8,
   "id": "f8ff7cd8",
   "metadata": {},
   "outputs": [
    {
     "name": "stdout",
     "output_type": "stream",
     "text": [
      "[[0 1 2]\n",
      " [3 4 5]\n",
      " [6 7 8]]\n"
     ]
    }
   ],
   "source": [
    "array = np.arange(9)\n",
    "array = array.reshape(3,3)\n",
    "print(array)"
   ]
  },
  {
   "cell_type": "markdown",
   "id": "21496c11",
   "metadata": {},
   "source": [
    "**8. Create a 3x3 identity matrix**"
   ]
  },
  {
   "cell_type": "code",
   "execution_count": 9,
   "id": "b386ea94",
   "metadata": {},
   "outputs": [
    {
     "name": "stdout",
     "output_type": "stream",
     "text": [
      "[[1. 0. 0.]\n",
      " [0. 1. 0.]\n",
      " [0. 0. 1.]]\n"
     ]
    }
   ],
   "source": [
    "array = np.identity(3)\n",
    "print(array)"
   ]
  },
  {
   "cell_type": "markdown",
   "id": "6e27baa4",
   "metadata": {},
   "source": [
    "**9. Find and print the maximum values of each column in the array below** "
   ]
  },
  {
   "cell_type": "code",
   "execution_count": 10,
   "id": "fe1c1a8d",
   "metadata": {},
   "outputs": [
    {
     "name": "stdout",
     "output_type": "stream",
     "text": [
      "The oririginal array: \n",
      " [[0.0298305  0.21734804 0.06593308 0.39367062 0.22235582 0.9502896\n",
      "  0.72969089 0.75039415 0.42740914 0.43246382 0.40067923]\n",
      " [0.21367314 0.16866078 0.79252186 0.03684488 0.84257433 0.25241163\n",
      "  0.42727299 0.10956465 0.30313528 0.3006571  0.46047764]\n",
      " [0.38467572 0.54529128 0.86199939 0.24570388 0.08140929 0.83428933\n",
      "  0.38453814 0.91745241 0.3335576  0.84033743 0.61257247]\n",
      " [0.99370784 0.13701647 0.17030912 0.89741099 0.94594549 0.67648083\n",
      "  0.63530999 0.30730443 0.71360225 0.57541859 0.16660493]\n",
      " [0.86164207 0.11668255 0.74788998 0.07049236 0.68046354 0.47471741\n",
      "  0.47594629 0.93466965 0.55257366 0.71750384 0.64714412]\n",
      " [0.00220398 0.45204983 0.09616819 0.30304693 0.30979513 0.98984699\n",
      "  0.9422605  0.63654908 0.50338923 0.96204596 0.82341413]\n",
      " [0.80969436 0.60258471 0.31377394 0.30021023 0.57264289 0.86459747\n",
      "  0.61818895 0.40882282 0.39160095 0.20122963 0.41533346]\n",
      " [0.71487585 0.39331404 0.90397844 0.87630832 0.16512085 0.41643747\n",
      "  0.66245043 0.35364483 0.54299965 0.42412085 0.46445387]\n",
      " [0.08546578 0.567337   0.14662185 0.43256811 0.49100954 0.05942303\n",
      "  0.72470969 0.18030785 0.97354839 0.63322845 0.38846324]\n",
      " [0.42088882 0.25621896 0.59831075 0.07933995 0.28725452 0.59490607\n",
      "  0.67552924 0.37653649 0.08831028 0.78931601 0.72855418]]\n",
      "\n",
      " The max values for each column are: \n",
      " [0.99370784 0.60258471 0.90397844 0.89741099 0.94594549 0.98984699\n",
      " 0.9422605  0.93466965 0.97354839 0.96204596 0.82341413]\n"
     ]
    }
   ],
   "source": [
    "Z = np.random.random((10,11))\n",
    "print( \"The oririginal array: \\n\", Z)\n",
    "# Include your solution below\n",
    "columnMaxes = np.amax(Z, axis = 0)\n",
    "print(\"\\n The max values for each column are: \\n\", columnMaxes)"
   ]
  },
  {
   "cell_type": "markdown",
   "id": "dd89c91f",
   "metadata": {},
   "source": [
    "**10. Create a $7 \\times 7$ array with 1s on the borders (first row and column, last row and columns) and 0s everywhere else**"
   ]
  },
  {
   "cell_type": "code",
   "execution_count": 11,
   "id": "0413deb1",
   "metadata": {},
   "outputs": [
    {
     "name": "stdout",
     "output_type": "stream",
     "text": [
      "[[1. 1. 1. 1. 1. 1. 1.]\n",
      " [1. 0. 0. 0. 0. 0. 1.]\n",
      " [1. 0. 0. 0. 0. 0. 1.]\n",
      " [1. 0. 0. 0. 0. 0. 1.]\n",
      " [1. 0. 0. 0. 0. 0. 1.]\n",
      " [1. 0. 0. 0. 0. 0. 1.]\n",
      " [1. 1. 1. 1. 1. 1. 1.]]\n"
     ]
    }
   ],
   "source": [
    "array = np.zeros((5,5))\n",
    "H,W = array.shape\n",
    "aux_array = np.ones((H+2, W+2))\n",
    "aux_array[1:-1,1:-1] = array\n",
    "print (aux_array)\n"
   ]
  },
  {
   "cell_type": "markdown",
   "id": "5456c5ae",
   "metadata": {},
   "source": [
    "**11. Pad the existing array below with zeros (i.e., add additional rows and columns with zeros). Use the NumPy pad function.**"
   ]
  },
  {
   "cell_type": "code",
   "execution_count": 12,
   "id": "54453777",
   "metadata": {},
   "outputs": [
    {
     "name": "stdout",
     "output_type": "stream",
     "text": [
      "[[0. 0. 0. 0. 0. 0. 0.]\n",
      " [0. 1. 1. 1. 1. 1. 0.]\n",
      " [0. 1. 1. 1. 1. 1. 0.]\n",
      " [0. 1. 1. 1. 1. 1. 0.]\n",
      " [0. 1. 1. 1. 1. 1. 0.]\n",
      " [0. 1. 1. 1. 1. 1. 0.]\n",
      " [0. 0. 0. 0. 0. 0. 0.]]\n"
     ]
    }
   ],
   "source": [
    "Z = np.ones((5,5))\n",
    "# Include your solution below\n",
    "padded_Z = np.pad(Z,(1,1))\n",
    "print(padded_Z)"
   ]
  },
  {
   "cell_type": "markdown",
   "id": "213571e0",
   "metadata": {},
   "source": [
    "**12. Extract the integer part of the random array of positive numbers below**"
   ]
  },
  {
   "cell_type": "code",
   "execution_count": 13,
   "id": "2d7209a2",
   "metadata": {},
   "outputs": [
    {
     "name": "stdout",
     "output_type": "stream",
     "text": [
      "[0.41703456 6.74865635 3.82478213 8.73590396 0.56445099 6.794455\n",
      " 5.22070737 7.76595002 1.06250019 6.90547534]\n",
      "[0 7 4 9 1 7 5 8 1 7]\n"
     ]
    }
   ],
   "source": [
    "Z = np.random.uniform(0,10,10)\n",
    "# Include your solution below\n",
    "print(Z)\n",
    "Z_int = np.around(Z).astype(int)\n",
    "print(Z_int)"
   ]
  },
  {
   "cell_type": "markdown",
   "id": "ca235291",
   "metadata": {},
   "source": [
    "**13. Create a 5x5 matrix with rows with equal values ranging from 0 to 4 (i.e., [0,1,2,3,4])**\n",
    "\n",
    "*Hint:* consider using NumPy broadcasting or the tile function*"
   ]
  },
  {
   "cell_type": "code",
   "execution_count": 14,
   "id": "c3ab2b50",
   "metadata": {},
   "outputs": [
    {
     "name": "stdout",
     "output_type": "stream",
     "text": [
      "[[0 1 2 3 4]\n",
      " [0 1 2 3 4]\n",
      " [0 1 2 3 4]\n",
      " [0 1 2 3 4]\n",
      " [0 1 2 3 4]]\n"
     ]
    }
   ],
   "source": [
    "array = np.array([0,1,2,3,4])\n",
    "T = np.tile(array, (5,1))\n",
    "print(T)"
   ]
  },
  {
   "cell_type": "markdown",
   "id": "30d8179e",
   "metadata": {},
   "source": [
    "**14. Create a vector of size 10 with values ranging from 0 to 1 (0 and 1 not included)**\n",
    "\n",
    "*Hint: Consider using the linspace function*"
   ]
  },
  {
   "cell_type": "code",
   "execution_count": 15,
   "id": "1b546e08",
   "metadata": {},
   "outputs": [
    {
     "name": "stdout",
     "output_type": "stream",
     "text": [
      "[0.09090909 0.18181818 0.27272727 0.36363636 0.45454545 0.54545455\n",
      " 0.63636364 0.72727273 0.81818182 0.90909091]\n"
     ]
    }
   ],
   "source": [
    "vec = np.linspace(0, 1, endpoint=False, num=11)[1:]\n",
    "print(vec)"
   ]
  },
  {
   "cell_type": "markdown",
   "id": "d6ee753f",
   "metadata": {},
   "source": [
    "**15. Create a random vector of size 10 and sort it**"
   ]
  },
  {
   "cell_type": "code",
   "execution_count": 16,
   "id": "38d1ebd5",
   "metadata": {},
   "outputs": [
    {
     "name": "stdout",
     "output_type": "stream",
     "text": [
      "The Random Vector: \n",
      " [[0.9144646  0.41608138 0.16012246 0.64466427 0.76736499 0.72217439\n",
      "  0.59216314 0.22094815 0.0205874  0.57543739]]\n",
      "The Sorted Vector: \n",
      " [[0.0205874  0.16012246 0.22094815 0.41608138 0.57543739 0.59216314\n",
      "  0.64466427 0.72217439 0.76736499 0.9144646 ]]\n"
     ]
    }
   ],
   "source": [
    "vec = np.random.random((1,10))\n",
    "print(\"The Random Vector: \\n\", vec)\n",
    "sorted = np.sort(vec)\n",
    "print(\"The Sorted Vector: \\n\", sorted)"
   ]
  },
  {
   "cell_type": "markdown",
   "id": "bb4867cd",
   "metadata": {},
   "source": [
    "**16. Consider the cartesian coordinates below (X and Y), convert them to polar coordinates (R and T)**"
   ]
  },
  {
   "cell_type": "code",
   "execution_count": 17,
   "id": "c36c035b",
   "metadata": {},
   "outputs": [
    {
     "name": "stdout",
     "output_type": "stream",
     "text": [
      "Cartesian Coordinates: \n",
      " [[0.20913584 0.26891117]\n",
      " [0.48083939 0.87773822]\n",
      " [0.74955534 0.00868866]\n",
      " [0.25362398 0.66730798]\n",
      " [0.89018633 0.26077274]\n",
      " [0.25369291 0.71077575]\n",
      " [0.37749545 0.22198281]\n",
      " [0.75225273 0.77929209]\n",
      " [0.25887644 0.97386562]\n",
      " [0.64352171 0.62605325]]\n",
      "\n",
      "Polar Coordinates: \n",
      " [[0.34066261 0.90979322]\n",
      " [1.00081511 1.06963113]\n",
      " [0.74960569 0.01159123]\n",
      " [0.71388028 1.20758784]\n",
      " [0.92759589 0.28496882]\n",
      " [0.75469349 1.22796652]\n",
      " [0.437926   0.53157973]\n",
      " [1.0831345  0.80305129]\n",
      " [1.00768609 1.31098122]\n",
      " [0.89781004 0.77163974]]\n"
     ]
    }
   ],
   "source": [
    "Z = np.random.random((10,2))\n",
    "X,Y = Z[:,0], Z[:,1]\n",
    "print(\"Cartesian Coordinates: \\n\", Z)\n",
    "# Include your solution below\n",
    "R = np.sqrt(X**2+Y**2)\n",
    "T = np.arctan2(Y,X)\n",
    "P = np.vstack((R, T)).T\n",
    "print(\"\\nPolar Coordinates: \\n\", P)"
   ]
  },
  {
   "cell_type": "markdown",
   "id": "dc98a40a",
   "metadata": {},
   "source": [
    "**17. Create random vector of size 10 and replace the maximum value by 0**"
   ]
  },
  {
   "cell_type": "code",
   "execution_count": 18,
   "id": "bd5af624",
   "metadata": {},
   "outputs": [
    {
     "name": "stdout",
     "output_type": "stream",
     "text": [
      "Random Vector: \n",
      " [[0.41870022 0.6873855  0.91992823 0.30833393 0.10391995 0.55081673\n",
      "  0.18721417 0.79950833 0.08844351 0.82825389]]\n",
      "\n",
      "Max value Replaced with 0: \n",
      " [[0.41870022 0.6873855  0.         0.30833393 0.10391995 0.55081673\n",
      "  0.18721417 0.79950833 0.08844351 0.82825389]]\n"
     ]
    }
   ],
   "source": [
    "vec = np.random.random((1,10))\n",
    "M = np.amax(vec, axis=1)\n",
    "print(\"Random Vector: \\n\", vec)\n",
    "new_vec = np.where(np.isin(vec, M), 0, vec)\n",
    "print(\"\\nMax value Replaced with 0: \\n\", new_vec)"
   ]
  },
  {
   "cell_type": "markdown",
   "id": "9366978e",
   "metadata": {},
   "source": [
    "**18. Find the nearest value from a given value (z) in an array (Z)**"
   ]
  },
  {
   "cell_type": "code",
   "execution_count": 19,
   "id": "402dd2c2",
   "metadata": {},
   "outputs": [
    {
     "name": "stdout",
     "output_type": "stream",
     "text": [
      "Original Array: \n",
      " [0.16281698 0.74576561 0.71609137 0.05410001 0.08171453 0.05707949\n",
      " 0.29367705 0.47863487 0.09868036 0.06792599]\n",
      "\n",
      "Closest Value to  0.5 : 0.4786348685466094\n"
     ]
    }
   ],
   "source": [
    "Z = np.random.uniform(0,1,10)\n",
    "z = 0.5\n",
    "# Include your solution below\n",
    "print(\"Original Array: \\n\", Z)\n",
    "N = Z[abs(Z - z).argmin()]\n",
    "print(\"\\nClosest Value to \", z, \":\", N)"
   ]
  },
  {
   "cell_type": "markdown",
   "id": "f7200eb4",
   "metadata": {},
   "source": [
    "**19. Consider the vector [5, 4, 3, 2, 1], how to build a new vector with 3 consecutive zeros interleaved between each value?**"
   ]
  },
  {
   "cell_type": "code",
   "execution_count": 20,
   "id": "cdf469b9",
   "metadata": {},
   "outputs": [
    {
     "data": {
      "text/plain": [
       "array([5., 0., 0., 0., 4., 0., 0., 0., 3., 0., 0., 0., 2., 0., 0., 0., 1.])"
      ]
     },
     "execution_count": 20,
     "metadata": {},
     "output_type": "execute_result"
    }
   ],
   "source": [
    "Z = np.arange(5)[::-1]\n",
    "# Include your solution below\n",
    "\n",
    "# print (Z + 1)\n",
    "Z = Z + 1\n",
    "\n",
    "zero_between = 3\n",
    "new_Z = np.zeros(len(Z) + (len(Z)-1)*(zero_between))\n",
    "new_Z[::zero_between+1] = Z\n",
    "new_Z"
   ]
  },
  {
   "cell_type": "markdown",
   "id": "d3933416",
   "metadata": {},
   "source": [
    "**20. Consider an array of dimension (5,5,3), how to mulitply it element-wise by an array with dimensions (5,5) - i.e., (5,5,0)$\\times$(5,5), (5,5,1)$\\times$(5,5), (5,5,2)$\\times$(5,5)**"
   ]
  },
  {
   "cell_type": "code",
   "execution_count": 21,
   "id": "829e595b",
   "metadata": {},
   "outputs": [
    {
     "data": {
      "text/plain": [
       "array([[[2., 2., 2.],\n",
       "        [2., 2., 2.],\n",
       "        [2., 2., 2.],\n",
       "        [2., 2., 2.],\n",
       "        [2., 2., 2.]],\n",
       "\n",
       "       [[2., 2., 2.],\n",
       "        [2., 2., 2.],\n",
       "        [2., 2., 2.],\n",
       "        [2., 2., 2.],\n",
       "        [2., 2., 2.]],\n",
       "\n",
       "       [[2., 2., 2.],\n",
       "        [2., 2., 2.],\n",
       "        [2., 2., 2.],\n",
       "        [2., 2., 2.],\n",
       "        [2., 2., 2.]],\n",
       "\n",
       "       [[2., 2., 2.],\n",
       "        [2., 2., 2.],\n",
       "        [2., 2., 2.],\n",
       "        [2., 2., 2.],\n",
       "        [2., 2., 2.]],\n",
       "\n",
       "       [[2., 2., 2.],\n",
       "        [2., 2., 2.],\n",
       "        [2., 2., 2.],\n",
       "        [2., 2., 2.],\n",
       "        [2., 2., 2.]]])"
      ]
     },
     "execution_count": 21,
     "metadata": {},
     "output_type": "execute_result"
    }
   ],
   "source": [
    "A = np.ones((5,5,3))\n",
    "B = 2*np.ones((5,5))\n",
    "# Include your solution below\n",
    "\n",
    "# print (A)\n",
    "# print (B)\n",
    "A * B[:,:,None]"
   ]
  },
  {
   "cell_type": "markdown",
   "id": "b8e383e0",
   "metadata": {},
   "source": [
    "**21. Swap the first and second rows of the 2D array below**"
   ]
  },
  {
   "cell_type": "code",
   "execution_count": 22,
   "id": "b016f45c",
   "metadata": {},
   "outputs": [
    {
     "name": "stdout",
     "output_type": "stream",
     "text": [
      "[[ 0  1  2  3  4]\n",
      " [ 5  6  7  8  9]\n",
      " [10 11 12 13 14]\n",
      " [15 16 17 18 19]\n",
      " [20 21 22 23 24]\n",
      " [25 26 27 28 29]]\n",
      "\n",
      "[[ 5  6  7  8  9]\n",
      " [ 0  1  2  3  4]\n",
      " [10 11 12 13 14]\n",
      " [15 16 17 18 19]\n",
      " [20 21 22 23 24]\n",
      " [25 26 27 28 29]]\n"
     ]
    }
   ],
   "source": [
    "W = np.arange(30).reshape(6,5)\n",
    "print(W)\n",
    "print()\n",
    "# Include your solution \n",
    "W[[1,0]] = W[[0,1]]\n",
    "print(W)\n"
   ]
  },
  {
   "cell_type": "markdown",
   "id": "53a6f289",
   "metadata": {},
   "source": [
    "**22. Write a function that receives as input a 2D Boolean NumPy array and outputs the coordinates of the minimal bounding-box\n",
    "that encloses all non-zero elements in the input array**\n",
    "\n",
    "**Tip:** search for the functions nonzero and where in the NumPy documentation.\n",
    "\n",
    "\n",
    "<img src=\"../Figures/bbox.png\" width=\"150\" /> "
   ]
  },
  {
   "cell_type": "code",
   "execution_count": 23,
   "id": "9c506e2d",
   "metadata": {},
   "outputs": [
    {
     "name": "stdout",
     "output_type": "stream",
     "text": [
      "((29, 50), (342, 431))\n"
     ]
    },
    {
     "data": {
      "image/png": "[encoded data removed]",
      "text/plain": [
       "<Figure size 432x288 with 1 Axes>"
      ]
     },
     "metadata": {
      "needs_background": "light"
     },
     "output_type": "display_data"
    }
   ],
   "source": [
    "def bbox(img):\n",
    "    #include your solution below\n",
    "\n",
    "    rows = np.any(img, axis=1)\n",
    "    cols = np.any(img, axis=0)\n",
    "    r1, r2 = np.where(rows)[0][[0, -1]] \n",
    "    c1, c2 = np.where(cols)[0][[0, -1]] \n",
    "    return (r1,c1),(r2,c2)\n",
    "\n",
    "from PIL import Image\n",
    "\n",
    "#img = np.array(Image.open('../Figures/bin_image.png'))\n",
    "img = np.array(Image.open('../Figures/bin_image.png').convert('L')) > 0\n",
    "print(bbox(img))\n",
    "\n",
    "figure, axis = plt.subplots()\n",
    "axis.imshow(img)\n",
    "plt.show()"
   ]
  },
  {
   "cell_type": "markdown",
   "id": "466b3e0f",
   "metadata": {},
   "source": [
    "**23.Write a function to compute the average over a sliding window of length N over a 1D array?**\n",
    "\n",
    "*Example:* [1,2,3,4,5,6,7,8,9], N = 3 -> [2,5,8]"
   ]
  },
  {
   "cell_type": "code",
   "execution_count": 24,
   "id": "26726ad0",
   "metadata": {},
   "outputs": [
    {
     "name": "stdout",
     "output_type": "stream",
     "text": [
      "[ 1.  2.  3.  4.  5.  6.  7.  8.  9. 10. 11. 12. 13. 14. 15. 16. 17. 18.\n",
      " 19. 20. 21. 22. 23. 24. 25. 26. 27. 28.]\n"
     ]
    }
   ],
   "source": [
    "def moving_average(x,N = 3):\n",
    "    #define your function here\n",
    "    \n",
    "    test = np.cumsum(x, dtype=float)\n",
    "    test[N:] = test[N:] - test[:-N]\n",
    "    return test[N - 1:] / N\n",
    "\n",
    "a = np.arange(30)\n",
    "# b = [1,2,3,4,5,6,7,8,9]\n",
    "N = 3\n",
    "print(moving_average(a,N))"
   ]
  },
  {
   "cell_type": "markdown",
   "id": "12039f38",
   "metadata": {},
   "source": [
    "**24.  Given a sorted 1D array C that corresponds to a bincount, how to produce an array A such that np.bincount(A) == C?**\n",
    "\n",
    "*Example:* C = [3,2,4] -> D = [0,0,0,1,1,2,2,2,2]\n",
    "\n",
    "*Tip:* Consider using the NumPy repeat function"
   ]
  },
  {
   "cell_type": "code",
   "execution_count": 25,
   "id": "2879e113",
   "metadata": {},
   "outputs": [
    {
     "name": "stdout",
     "output_type": "stream",
     "text": [
      "[0 2 1 1 2 0 1]\n",
      "[1 1 2 3 4 4 6]\n"
     ]
    }
   ],
   "source": [
    "C = np.bincount([1,1,2,3,4,4,6])\n",
    "print(C)\n",
    "# Include yoru solution here\n",
    "\n",
    "A = np.repeat(np.arange(len(C)),C)\n",
    "print (A)"
   ]
  },
  {
   "cell_type": "markdown",
   "id": "dbf7a791",
   "metadata": {},
   "source": [
    "**25. Find the most frequent value in the array below?**"
   ]
  },
  {
   "cell_type": "code",
   "execution_count": 26,
   "id": "b6eb432f",
   "metadata": {},
   "outputs": [
    {
     "name": "stdout",
     "output_type": "stream",
     "text": [
      "[3 5 4 6 0 5 5 5 1 6 1 8 4 6 2 8 9 3 4 6 0 9 5 4 8 8 8 5 4 2 2 5 6 9 1 8 7\n",
      " 6 3 9 5 1 1 3 8 0 6 2 7 1]\n",
      "The most frequent value is 5\n"
     ]
    }
   ],
   "source": [
    "Z = np.random.randint(0,10,50)\n",
    "print(Z)\n",
    "# Include your solution below\n",
    "count = np.bincount(Z)\n",
    "print(\"The most frequent value is\", np.argmax(count))"
   ]
  },
  {
   "cell_type": "markdown",
   "id": "52cb07d4",
   "metadata": {},
   "source": [
    "**26. Write a function to return the n largest values of an array** "
   ]
  },
  {
   "cell_type": "code",
   "execution_count": 27,
   "id": "99a7f051",
   "metadata": {},
   "outputs": [
    {
     "name": "stdout",
     "output_type": "stream",
     "text": [
      "[9999 9998 9997 9996 9995]\n"
     ]
    }
   ],
   "source": [
    "def nlargest(a,n = 5):\n",
    "    # Include your solution here\n",
    "    a[::-1].sort()\n",
    "    answer = a[:n]\n",
    "    return answer\n",
    "\n",
    "Z = np.arange(10000)\n",
    "np.random.shuffle(Z)\n",
    "n = 5\n",
    "print(nlargest(Z,n))    "
   ]
  }
 ],
 "metadata": {
  "kernelspec": {
   "display_name": "Python 3 (ipykernel)",
   "language": "python",
   "name": "python3"
  },
  "language_info": {
   "codemirror_mode": {
    "name": "ipython",
    "version": 3
   },
   "file_extension": ".py",
   "mimetype": "text/x-python",
   "name": "python",
   "nbconvert_exporter": "python",
   "pygments_lexer": "ipython3",
   "version": "3.9.7"
  }
 },
 "nbformat": 4,
 "nbformat_minor": 5
}
