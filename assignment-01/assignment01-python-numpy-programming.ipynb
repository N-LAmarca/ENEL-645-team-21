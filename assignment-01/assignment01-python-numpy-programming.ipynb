{
 "cells": [
  {
   "cell_type": "markdown",
   "id": "68f22a51",
   "metadata": {},
   "source": [
    "# Assignment #01\n",
    "\n",
    "This assignment is composed of multiple Python and NumPy programming exercises. The deliverable of this assignment is this jupyter-notebook completed with your solution.\n",
    "\n",
    "The delivery instructions are the following:\n",
    "    - Create a GitHub repository for your team. You are free to choose its name. This repository will be used to delvier the programming assignments and the code of your team's final project.\n",
    "    - Create a folder assignment-01 in the repository. Put the jupyter-notebook with your solution in this repository and post the repository link in your team's D2L dropbox for the assignment.\n",
    "\n",
    "You are being assessed based on:\n",
    "\n",
    "1. Code execution - 25% \n",
    "2. Clarity of the code (e.g., easy to follow, has pertinent comments, etc.) - 25%\n",
    "3. Proper usage of the techniques seen in class - 25%\n",
    "    - remember to avoid explicit Python loops!  \n",
    "4. Quality and correcteness of the results - 25%\n",
    "\n",
    "More details about the assessment are available in the rubric document in the class GitHub repository.\n",
    "\n",
    "Points distribution:\n",
    "- Question 2-21: 3 points per question \n",
    "- Questions 22-26: 8 points per question (total 40)\n",
    "- Total: 100 ponits"
   ]
  },
  {
   "cell_type": "code",
   "execution_count": 1,
   "id": "00feb81a",
   "metadata": {},
   "outputs": [],
   "source": [
    "import matplotlib.pylab as plt"
   ]
  },
  {
   "cell_type": "markdown",
   "id": "a829e3d1",
   "metadata": {},
   "source": [
    "**1. Import the numpy package under the name np**"
   ]
  },
  {
   "cell_type": "code",
   "execution_count": 2,
   "id": "dc2ed242",
   "metadata": {},
   "outputs": [],
   "source": [
    "import numpy as np"
   ]
  },
  {
   "cell_type": "markdown",
   "id": "66d9e94c",
   "metadata": {},
   "source": [
    "**2. Print the numpy version and the configuration**"
   ]
  },
  {
   "cell_type": "code",
   "execution_count": 3,
   "id": "8e1aa444",
   "metadata": {},
   "outputs": [
    {
     "name": "stdout",
     "output_type": "stream",
     "text": [
      "The numpy version is: \n",
      "1.21.2\n",
      "The numpy configuration is: \n",
      "blas_mkl_info:\n",
      "  NOT AVAILABLE\n",
      "blis_info:\n",
      "  NOT AVAILABLE\n",
      "openblas_info:\n",
      "    library_dirs = ['D:\\\\a\\\\1\\\\s\\\\numpy\\\\build\\\\openblas_info']\n",
      "    libraries = ['openblas_info']\n",
      "    language = f77\n",
      "    define_macros = [('HAVE_CBLAS', None)]\n",
      "blas_opt_info:\n",
      "    library_dirs = ['D:\\\\a\\\\1\\\\s\\\\numpy\\\\build\\\\openblas_info']\n",
      "    libraries = ['openblas_info']\n",
      "    language = f77\n",
      "    define_macros = [('HAVE_CBLAS', None)]\n",
      "lapack_mkl_info:\n",
      "  NOT AVAILABLE\n",
      "openblas_lapack_info:\n",
      "    library_dirs = ['D:\\\\a\\\\1\\\\s\\\\numpy\\\\build\\\\openblas_lapack_info']\n",
      "    libraries = ['openblas_lapack_info']\n",
      "    language = f77\n",
      "    define_macros = [('HAVE_CBLAS', None)]\n",
      "lapack_opt_info:\n",
      "    library_dirs = ['D:\\\\a\\\\1\\\\s\\\\numpy\\\\build\\\\openblas_lapack_info']\n",
      "    libraries = ['openblas_lapack_info']\n",
      "    language = f77\n",
      "    define_macros = [('HAVE_CBLAS', None)]\n",
      "Supported SIMD extensions in this NumPy install:\n",
      "    baseline = SSE,SSE2,SSE3\n",
      "    found = SSSE3,SSE41,POPCNT,SSE42,AVX,F16C,FMA3,AVX2\n",
      "    not found = AVX512F,AVX512CD,AVX512_SKX,AVX512_CLX,AVX512_CNL\n",
      "None\n"
     ]
    }
   ],
   "source": [
    "print(\"The numpy version is: \")\n",
    "print( np.__version__)\n",
    "print(\"The numpy configuration is: \")\n",
    "print(np.show_config())"
   ]
  },
  {
   "cell_type": "markdown",
   "id": "768ce33e",
   "metadata": {},
   "source": [
    "**3. Create a 1D array of zeros of size 10 of type float32**"
   ]
  },
  {
   "cell_type": "code",
   "execution_count": 4,
   "id": "c8bf6a8f",
   "metadata": {},
   "outputs": [
    {
     "name": "stdout",
     "output_type": "stream",
     "text": [
      "[0. 0. 0. 0. 0. 0. 0. 0. 0. 0.]\n"
     ]
    }
   ],
   "source": [
    "array = np.zeros((10), dtype = 'float32')\n",
    "print(array)"
   ]
  },
  {
   "cell_type": "markdown",
   "id": "e9fddae6",
   "metadata": {},
   "source": [
    "**4. Print the memory size of the array below**"
   ]
  },
  {
   "cell_type": "code",
   "execution_count": 5,
   "id": "afc6eaed",
   "metadata": {},
   "outputs": [
    {
     "name": "stdout",
     "output_type": "stream",
     "text": [
      "The memory size of Z in bytes is:  3072\n"
     ]
    }
   ],
   "source": [
    "Z = np.zeros((32,12))\n",
    "# Include your solution below\n",
    "Z_mem = Z.size * Z.itemsize\n",
    "print(\"The memory size of Z in bytes is: \", Z_mem)"
   ]
  },
  {
   "cell_type": "markdown",
   "id": "e7aa512b",
   "metadata": {},
   "source": [
    "**5. Create a 1D array with values ranging from 10 to 58**"
   ]
  },
  {
   "cell_type": "code",
   "execution_count": 6,
   "id": "ab0c9957",
   "metadata": {},
   "outputs": [
    {
     "name": "stdout",
     "output_type": "stream",
     "text": [
      "[10 11 12 13 14 15 16 17 18 19 20 21 22 23 24 25 26 27 28 29 30 31 32 33\n",
      " 34 35 36 37 38 39 40 41 42 43 44 45 46 47 48 49 50 51 52 53 54 55 56 57\n",
      " 58]\n"
     ]
    }
   ],
   "source": [
    "array = np.arange(10,59)\n",
    "print(array)"
   ]
  },
  {
   "cell_type": "markdown",
   "id": "29010684",
   "metadata": {},
   "source": [
    "**6. Reverse the order of the values in the vector (first element becomes last)**"
   ]
  },
  {
   "cell_type": "code",
   "execution_count": 7,
   "id": "2b23334f",
   "metadata": {},
   "outputs": [
    {
     "name": "stdout",
     "output_type": "stream",
     "text": [
      "[9 8 7 6 5 4 3 2 1 0]\n"
     ]
    }
   ],
   "source": [
    "a = np.arange(10)\n",
    "# Include your solution below\n",
    "a = a[::-1]\n",
    "print(a)"
   ]
  },
  {
   "cell_type": "markdown",
   "id": "1df355b8",
   "metadata": {},
   "source": [
    "**7. Create a 3x3 matrix with values ranging from 0 to 8**"
   ]
  },
  {
   "cell_type": "code",
   "execution_count": 8,
   "id": "f8ff7cd8",
   "metadata": {},
   "outputs": [
    {
     "name": "stdout",
     "output_type": "stream",
     "text": [
      "[[0 1 2]\n",
      " [3 4 5]\n",
      " [6 7 8]]\n"
     ]
    }
   ],
   "source": [
    "array = np.arange(9)\n",
    "array = array.reshape(3,3)\n",
    "print(array)"
   ]
  },
  {
   "cell_type": "markdown",
   "id": "21496c11",
   "metadata": {},
   "source": [
    "**8. Create a 3x3 identity matrix**"
   ]
  },
  {
   "cell_type": "code",
   "execution_count": 9,
   "id": "b386ea94",
   "metadata": {},
   "outputs": [
    {
     "name": "stdout",
     "output_type": "stream",
     "text": [
      "[[1. 0. 0.]\n",
      " [0. 1. 0.]\n",
      " [0. 0. 1.]]\n"
     ]
    }
   ],
   "source": [
    "array = np.identity(3)\n",
    "print(array)"
   ]
  },
  {
   "cell_type": "markdown",
   "id": "6e27baa4",
   "metadata": {},
   "source": [
    "**9. Find and print the maximum values of each column in the array below** "
   ]
  },
  {
   "cell_type": "code",
   "execution_count": 10,
   "id": "fe1c1a8d",
   "metadata": {},
   "outputs": [
    {
     "name": "stdout",
     "output_type": "stream",
     "text": [
      "The oririginal array: \n",
      " [[0.50499359 0.98467364 0.78444472 0.44903893 0.37322688 0.89873622\n",
      "  0.02746601 0.64846933 0.91051384 0.11523606 0.1904531 ]\n",
      " [0.77138245 0.56985299 0.13994966 0.73288176 0.10536688 0.91172357\n",
      "  0.08839704 0.86421385 0.31175392 0.8614289  0.46165445]\n",
      " [0.41995279 0.01183757 0.11433585 0.31130496 0.74452541 0.40134708\n",
      "  0.15759128 0.888886   0.0823044  0.61963692 0.80030747]\n",
      " [0.56527041 0.35664966 0.95082082 0.41249424 0.1894411  0.66340239\n",
      "  0.499813   0.14523671 0.19098372 0.87112592 0.8686419 ]\n",
      " [0.1312285  0.30922477 0.85573346 0.71305295 0.50848044 0.09692674\n",
      "  0.30062901 0.36045802 0.83088488 0.39763233 0.85749375]\n",
      " [0.20123665 0.22917081 0.228378   0.74296648 0.70338293 0.1158521\n",
      "  0.5480979  0.39203418 0.08722962 0.25495159 0.79407866]\n",
      " [0.46535821 0.9936881  0.21254764 0.85434035 0.13468575 0.73139877\n",
      "  0.46763187 0.63333112 0.36483387 0.7644869  0.59572094]\n",
      " [0.51164253 0.40390037 0.75125621 0.96095201 0.22331241 0.97429\n",
      "  0.98587476 0.16623312 0.25960069 0.946262   0.81739729]\n",
      " [0.18396966 0.62117793 0.75024931 0.32273468 0.74920925 0.64130509\n",
      "  0.52134661 0.41540336 0.07197147 0.50925228 0.37606001]\n",
      " [0.59572196 0.23752228 0.29449613 0.7357703  0.29049919 0.6893696\n",
      "  0.06656898 0.89067504 0.17958989 0.98107556 0.12617162]]\n",
      "\n",
      " The max values for each column are: \n",
      " [0.77138245 0.9936881  0.95082082 0.96095201 0.74920925 0.97429\n",
      " 0.98587476 0.89067504 0.91051384 0.98107556 0.8686419 ]\n"
     ]
    }
   ],
   "source": [
    "Z = np.random.random((10,11))\n",
    "print( \"The oririginal array: \\n\", Z)\n",
    "# Include your solution below\n",
    "columnMaxes = np.amax(Z, axis = 0)\n",
    "print(\"\\n The max values for each column are: \\n\", columnMaxes)"
   ]
  },
  {
   "cell_type": "markdown",
   "id": "dd89c91f",
   "metadata": {},
   "source": [
    "**10. Create a $7 \\times 7$ array with 1s on the borders (first row and column, last row and columns) and 0s everywhere else**"
   ]
  },
  {
   "cell_type": "code",
   "execution_count": 11,
   "id": "0413deb1",
   "metadata": {},
   "outputs": [
    {
     "name": "stdout",
     "output_type": "stream",
     "text": [
      "[[1. 1. 1. 1. 1. 1. 1.]\n",
      " [1. 0. 0. 0. 0. 0. 1.]\n",
      " [1. 0. 0. 0. 0. 0. 1.]\n",
      " [1. 0. 0. 0. 0. 0. 1.]\n",
      " [1. 0. 0. 0. 0. 0. 1.]\n",
      " [1. 0. 0. 0. 0. 0. 1.]\n",
      " [1. 1. 1. 1. 1. 1. 1.]]\n"
     ]
    }
   ],
   "source": [
    "array = np.zeros((5,5))\n",
    "H,W = array.shape\n",
    "aux_array = np.ones((H+2, W+2))\n",
    "aux_array[1:-1,1:-1] = array\n",
    "print (aux_array)\n"
   ]
  },
  {
   "cell_type": "markdown",
   "id": "5456c5ae",
   "metadata": {},
   "source": [
    "**11. Pad the existing array below with zeros (i.e., add additional rows and columns with zeros). Use the NumPy pad function.**"
   ]
  },
  {
   "cell_type": "code",
   "execution_count": 12,
   "id": "54453777",
   "metadata": {},
   "outputs": [
    {
     "name": "stdout",
     "output_type": "stream",
     "text": [
      "[[0. 0. 0. 0. 0. 0. 0.]\n",
      " [0. 1. 1. 1. 1. 1. 0.]\n",
      " [0. 1. 1. 1. 1. 1. 0.]\n",
      " [0. 1. 1. 1. 1. 1. 0.]\n",
      " [0. 1. 1. 1. 1. 1. 0.]\n",
      " [0. 1. 1. 1. 1. 1. 0.]\n",
      " [0. 0. 0. 0. 0. 0. 0.]]\n"
     ]
    }
   ],
   "source": [
    "Z = np.ones((5,5))\n",
    "# Include your solution below\n",
    "padded_Z = np.pad(Z,(1,1))\n",
    "print(padded_Z)"
   ]
  },
  {
   "cell_type": "markdown",
   "id": "213571e0",
   "metadata": {},
   "source": [
    "**12. Extract the integer part of the random array of positive numbers below**"
   ]
  },
  {
   "cell_type": "code",
   "execution_count": 13,
   "id": "2d7209a2",
   "metadata": {},
   "outputs": [
    {
     "name": "stdout",
     "output_type": "stream",
     "text": [
      "[4.18679293 9.5297278  3.26878186 2.85754792 3.43627817 5.18375559\n",
      " 9.80479907 7.38852634 2.88030065 6.44194437]\n",
      "[ 4 10  3  3  3  5 10  7  3  6]\n"
     ]
    }
   ],
   "source": [
    "Z = np.random.uniform(0,10,10)\n",
    "# Include your solution below\n",
    "print(Z)\n",
    "Z_int = np.around(Z).astype(int)\n",
    "print(Z_int)"
   ]
  },
  {
   "cell_type": "markdown",
   "id": "ca235291",
   "metadata": {},
   "source": [
    "**13. Create a 5x5 matrix with rows with equal values ranging from 0 to 4 (i.e., [0,1,2,3,4])**\n",
    "\n",
    "*Hint:* consider using NumPy broadcasting or the tile function*"
   ]
  },
  {
   "cell_type": "code",
   "execution_count": 14,
   "id": "c3ab2b50",
   "metadata": {},
   "outputs": [
    {
     "name": "stdout",
     "output_type": "stream",
     "text": [
      "[[0 1 2 3 4]\n",
      " [0 1 2 3 4]\n",
      " [0 1 2 3 4]\n",
      " [0 1 2 3 4]\n",
      " [0 1 2 3 4]]\n"
     ]
    }
   ],
   "source": [
    "array = np.array([0,1,2,3,4])\n",
    "T = np.tile(array, (5,1))\n",
    "print(T)"
   ]
  },
  {
   "cell_type": "markdown",
   "id": "30d8179e",
   "metadata": {},
   "source": [
    "**14. Create a vector of size 10 with values ranging from 0 to 1 (0 and 1 not included)**\n",
    "\n",
    "*Hint: Consider using the linspace function*"
   ]
  },
  {
   "cell_type": "code",
   "execution_count": 15,
   "id": "1b546e08",
   "metadata": {},
   "outputs": [
    {
     "name": "stdout",
     "output_type": "stream",
     "text": [
      "[0.09090909 0.18181818 0.27272727 0.36363636 0.45454545 0.54545455\n",
      " 0.63636364 0.72727273 0.81818182 0.90909091]\n"
     ]
    }
   ],
   "source": [
    "vec = np.linspace(0, 1, endpoint=False, num=11)[1:]\n",
    "print(vec)"
   ]
  },
  {
   "cell_type": "markdown",
   "id": "d6ee753f",
   "metadata": {},
   "source": [
    "**15. Create a random vector of size 10 and sort it**"
   ]
  },
  {
   "cell_type": "code",
   "execution_count": 16,
   "id": "38d1ebd5",
   "metadata": {},
   "outputs": [
    {
     "name": "stdout",
     "output_type": "stream",
     "text": [
      "The Random Vector: \n",
      " [[0.49079852 0.46160709 0.95874046 0.43381627 0.01566527 0.98402625\n",
      "  0.10702087 0.99457644 0.6040908  0.00241944]]\n",
      "The Sorted Vector: \n",
      " [[0.00241944 0.01566527 0.10702087 0.43381627 0.46160709 0.49079852\n",
      "  0.6040908  0.95874046 0.98402625 0.99457644]]\n"
     ]
    }
   ],
   "source": [
    "vec = np.random.random((1,10))\n",
    "print(\"The Random Vector: \\n\", vec)\n",
    "sorted = np.sort(vec)\n",
    "print(\"The Sorted Vector: \\n\", sorted)"
   ]
  },
  {
   "cell_type": "markdown",
   "id": "bb4867cd",
   "metadata": {},
   "source": [
    "**16. Consider the cartesian coordinates below (X and Y), convert them to polar coordinates (R and T)**"
   ]
  },
  {
   "cell_type": "code",
   "execution_count": 17,
   "id": "c36c035b",
   "metadata": {},
   "outputs": [
    {
     "name": "stdout",
     "output_type": "stream",
     "text": [
      "Cartesian Coordinates: \n",
      " [[3.86127451e-01 2.59475413e-01]\n",
      " [8.07114473e-01 2.37419757e-01]\n",
      " [2.65047914e-02 3.59214342e-02]\n",
      " [4.52263771e-01 2.27749256e-01]\n",
      " [4.32490179e-01 8.91396529e-01]\n",
      " [5.17968893e-04 4.87221360e-01]\n",
      " [9.04357711e-01 4.95303541e-01]\n",
      " [8.18575663e-02 5.41996320e-01]\n",
      " [2.37001729e-01 7.21401462e-02]\n",
      " [2.27356201e-01 9.29472167e-01]]\n",
      "\n",
      "Polar Coordinates: \n",
      " [[0.46521167 0.59168184]\n",
      " [0.84130964 0.28608924]\n",
      " [0.04464139 0.93511377]\n",
      " [0.50637164 0.46650445]\n",
      " [0.99077522 1.11907266]\n",
      " [0.48722164 1.56973322]\n",
      " [1.03111031 0.50106445]\n",
      " [0.54814293 1.42089945]\n",
      " [0.24773781 0.29547631]\n",
      " [0.95687478 1.33089902]]\n"
     ]
    }
   ],
   "source": [
    "Z = np.random.random((10,2))\n",
    "X,Y = Z[:,0], Z[:,1]\n",
    "print(\"Cartesian Coordinates: \\n\", Z)\n",
    "# Include your solution below\n",
    "R = np.sqrt(X**2+Y**2)\n",
    "T = np.arctan2(Y,X)\n",
    "P = np.vstack((R, T)).T\n",
    "print(\"\\nPolar Coordinates: \\n\", P)"
   ]
  },
  {
   "cell_type": "markdown",
   "id": "dc98a40a",
   "metadata": {},
   "source": [
    "**17. Create random vector of size 10 and replace the maximum value by 0**"
   ]
  },
  {
   "cell_type": "code",
   "execution_count": 18,
   "id": "bd5af624",
   "metadata": {},
   "outputs": [
    {
     "name": "stdout",
     "output_type": "stream",
     "text": [
      "Random Vector: \n",
      " [[0.08545215 0.94254118 0.12777201 0.57908687 0.56956969 0.11527791\n",
      "  0.939214   0.35453511 0.07644587 0.61369773]]\n",
      "\n",
      "Max value Replaced with 0: \n",
      " [[0.08545215 0.         0.12777201 0.57908687 0.56956969 0.11527791\n",
      "  0.939214   0.35453511 0.07644587 0.61369773]]\n"
     ]
    }
   ],
   "source": [
    "vec = np.random.random((1,10))\n",
    "M = np.amax(vec, axis=1)\n",
    "print(\"Random Vector: \\n\", vec)\n",
    "new_vec = np.where(np.isin(vec, M), 0, vec)\n",
    "print(\"\\nMax value Replaced with 0: \\n\", new_vec)"
   ]
  },
  {
   "cell_type": "markdown",
   "id": "9366978e",
   "metadata": {},
   "source": [
    "**18. Find the nearest value from a given value (z) in an array (Z)**"
   ]
  },
  {
   "cell_type": "code",
   "execution_count": 19,
   "id": "402dd2c2",
   "metadata": {},
   "outputs": [
    {
     "name": "stdout",
     "output_type": "stream",
     "text": [
      "Original Array: \n",
      " [0.03183384 0.53591181 0.35913781 0.50800694 0.53714892 0.24419825\n",
      " 0.30548897 0.46201976 0.28362792 0.45464063]\n",
      "\n",
      "Closest Value to  0.5 : 0.508006937614373\n"
     ]
    }
   ],
   "source": [
    "Z = np.random.uniform(0,1,10)\n",
    "z = 0.5\n",
    "# Include your solution below\n",
    "print(\"Original Array: \\n\", Z)\n",
    "N = Z[abs(Z - z).argmin()]\n",
    "print(\"\\nClosest Value to \", z, \":\", N)"
   ]
  },
  {
   "cell_type": "markdown",
   "id": "f7200eb4",
   "metadata": {},
   "source": [
    "**19. Consider the vector [5, 4, 3, 2, 1], how to build a new vector with 3 consecutive zeros interleaved between each value?**"
   ]
  },
  {
   "cell_type": "code",
   "execution_count": 20,
   "id": "cdf469b9",
   "metadata": {},
   "outputs": [
    {
     "data": {
      "text/plain": [
       "array([5., 0., 0., 0., 4., 0., 0., 0., 3., 0., 0., 0., 2., 0., 0., 0., 1.])"
      ]
     },
     "execution_count": 20,
     "metadata": {},
     "output_type": "execute_result"
    }
   ],
   "source": [
    "Z = np.arange(5)[::-1]\n",
    "# Include your solution below\n",
    "\n",
    "# print (Z + 1)\n",
    "Z = Z + 1\n",
    "\n",
    "zero_between = 3\n",
    "new_Z = np.zeros(len(Z) + (len(Z)-1)*(zero_between))\n",
    "new_Z[::zero_between+1] = Z\n",
    "new_Z"
   ]
  },
  {
   "cell_type": "markdown",
   "id": "d3933416",
   "metadata": {},
   "source": [
    "**20. Consider an array of dimension (5,5,3), how to mulitply it element-wise by an array with dimensions (5,5) - i.e., (5,5,0)$\\times$(5,5), (5,5,1)$\\times$(5,5), (5,5,2)$\\times$(5,5)**"
   ]
  },
  {
   "cell_type": "code",
   "execution_count": 30,
   "id": "829e595b",
   "metadata": {},
   "outputs": [
    {
     "data": {
      "text/plain": [
       "array([[[2., 2., 2.],\n",
       "        [2., 2., 2.],\n",
       "        [2., 2., 2.],\n",
       "        [2., 2., 2.],\n",
       "        [2., 2., 2.]],\n",
       "\n",
       "       [[2., 2., 2.],\n",
       "        [2., 2., 2.],\n",
       "        [2., 2., 2.],\n",
       "        [2., 2., 2.],\n",
       "        [2., 2., 2.]],\n",
       "\n",
       "       [[2., 2., 2.],\n",
       "        [2., 2., 2.],\n",
       "        [2., 2., 2.],\n",
       "        [2., 2., 2.],\n",
       "        [2., 2., 2.]],\n",
       "\n",
       "       [[2., 2., 2.],\n",
       "        [2., 2., 2.],\n",
       "        [2., 2., 2.],\n",
       "        [2., 2., 2.],\n",
       "        [2., 2., 2.]],\n",
       "\n",
       "       [[2., 2., 2.],\n",
       "        [2., 2., 2.],\n",
       "        [2., 2., 2.],\n",
       "        [2., 2., 2.],\n",
       "        [2., 2., 2.]]])"
      ]
     },
     "execution_count": 30,
     "metadata": {},
     "output_type": "execute_result"
    }
   ],
   "source": [
    "A = np.ones((5,5,3))\n",
    "B = 2*np.ones((5,5))\n",
    "# Include your solution below\n",
    "\n",
    "# print (A)\n",
    "# print (B)\n",
    "A * B[:,:,None]"
   ]
  },
  {
   "cell_type": "markdown",
   "id": "b8e383e0",
   "metadata": {},
   "source": [
    "**21. Swap the first and second rows of the 2D array below**"
   ]
  },
  {
   "cell_type": "code",
   "execution_count": 22,
   "id": "b016f45c",
   "metadata": {},
   "outputs": [
    {
     "name": "stdout",
     "output_type": "stream",
     "text": [
      "[[ 0  1  2  3  4]\n",
      " [ 5  6  7  8  9]\n",
      " [10 11 12 13 14]\n",
      " [15 16 17 18 19]\n",
      " [20 21 22 23 24]\n",
      " [25 26 27 28 29]]\n",
      "\n",
      "[[ 5  6  7  8  9]\n",
      " [ 0  1  2  3  4]\n",
      " [10 11 12 13 14]\n",
      " [15 16 17 18 19]\n",
      " [20 21 22 23 24]\n",
      " [25 26 27 28 29]]\n"
     ]
    }
   ],
   "source": [
    "W = np.arange(30).reshape(6,5)\n",
    "print(W)\n",
    "print()\n",
    "# Include your solution \n",
    "W[[1,0]] = W[[0,1]]\n",
    "print(W)\n"
   ]
  },
  {
   "cell_type": "markdown",
   "id": "53a6f289",
   "metadata": {},
   "source": [
    "**22. Write a function that receives as input a 2D Boolean NumPy array and outputs the coordinates of the minimal bounding-box\n",
    "that encloses all non-zero elements in the input array**\n",
    "\n",
    "**Tip:** search for the functions nonzero and where in the NumPy documentation.\n",
    "\n",
    "\n",
    "<img src=\"../Figures/bbox.png\" width=\"150\" /> "
   ]
  },
  {
   "cell_type": "code",
   "execution_count": 23,
   "id": "9c506e2d",
   "metadata": {},
   "outputs": [
    {
     "name": "stdout",
     "output_type": "stream",
     "text": [
      "((29, 50), (342, 431))\n"
     ]
    },
    {
     "data": {
      "image/png": "[encoded data removed]",
      "text/plain": [
       "<Figure size 432x288 with 1 Axes>"
      ]
     },
     "metadata": {
      "needs_background": "light"
     },
     "output_type": "display_data"
    }
   ],
   "source": [
    "def bbox(img):\n",
    "    #include your solution below\n",
    "\n",
    "    rows = np.any(img, axis=1)\n",
    "    cols = np.any(img, axis=0)\n",
    "    r1, r2 = np.where(rows)[0][[0, -1]] \n",
    "    c1, c2 = np.where(cols)[0][[0, -1]] \n",
    "    return (r1,c1),(r2,c2)\n",
    "\n",
    "from PIL import Image\n",
    "\n",
    "#img = np.array(Image.open('../Figures/bin_image.png'))\n",
    "img = np.array(Image.open('../Figures/bin_image.png').convert('L')) > 0\n",
    "print(bbox(img))\n",
    "\n",
    "figure, axis = plt.subplots()\n",
    "axis.imshow(img)\n",
    "plt.show()"
   ]
  },
  {
   "cell_type": "markdown",
   "id": "466b3e0f",
   "metadata": {},
   "source": [
    "**23.Write a function to compute the average over a sliding window of length N over a 1D array?**\n",
    "\n",
    "*Example:* [1,2,3,4,5,6,7,8,9], N = 3 -> [2,5,8]"
   ]
  },
  {
   "cell_type": "code",
   "execution_count": 39,
   "id": "26726ad0",
   "metadata": {},
   "outputs": [
    {
     "name": "stdout",
     "output_type": "stream",
     "text": [
      "[ 1.  2.  3.  4.  5.  6.  7.  8.  9. 10. 11. 12. 13. 14. 15. 16. 17. 18.\n",
      " 19. 20. 21. 22. 23. 24. 25. 26. 27. 28.]\n"
     ]
    }
   ],
   "source": [
    "def moving_average(x,N):\n",
    "    #define your function here\n",
    "    test = np.cumsum(x, dtype=float)\n",
    "    test[N:] = test[N:] - test[:-N]\n",
    "    return test[N - 1:] / N\n",
    "\n",
    "a = np.arange(30)\n",
    "N = 3\n",
    "# Note- this prints the averages for EVERY 3 element sequence, i.e. 0,1,2 -> 1, then 1,2,3 -> 1\n",
    "# This will go all the way till the last 3 element sequence of 27,28,29 -> 28, hence the output\n",
    "print(moving_average(a,3))\n"
   ]
  },
  {
   "cell_type": "markdown",
   "id": "12039f38",
   "metadata": {},
   "source": [
    "**24.  Given a sorted 1D array C that corresponds to a bincount, how to produce an array A such that np.bincount(A) == C?**\n",
    "\n",
    "*Example:* C = [3,2,4] -> D = [0,0,0,1,1,2,2,2,2]\n",
    "\n",
    "*Tip:* Consider using the NumPy repeat function"
   ]
  },
  {
   "cell_type": "code",
   "execution_count": 25,
   "id": "2879e113",
   "metadata": {},
   "outputs": [
    {
     "name": "stdout",
     "output_type": "stream",
     "text": [
      "[0 2 1 1 2 0 1]\n",
      "[1 1 2 3 4 4 6]\n"
     ]
    }
   ],
   "source": [
    "C = np.bincount([1,1,2,3,4,4,6])\n",
    "print(C)\n",
    "# Include yoru solution here\n",
    "\n",
    "A = np.repeat(np.arange(len(C)),C)\n",
    "print (A)"
   ]
  },
  {
   "cell_type": "markdown",
   "id": "dbf7a791",
   "metadata": {},
   "source": [
    "**25. Find the most frequent value in the array below?**"
   ]
  },
  {
   "cell_type": "code",
   "execution_count": 26,
   "id": "b6eb432f",
   "metadata": {},
   "outputs": [
    {
     "name": "stdout",
     "output_type": "stream",
     "text": [
      "[6 9 1 7 1 0 1 8 7 1 1 8 5 2 7 3 5 2 7 6 4 4 8 0 4 8 7 1 0 5 4 7 7 9 8 5 8\n",
      " 1 7 3 5 5 7 8 3 0 1 3 8 0]\n",
      "The most frequent value is 7\n"
     ]
    }
   ],
   "source": [
    "Z = np.random.randint(0,10,50)\n",
    "print(Z)\n",
    "# Include your solution below\n",
    "count = np.bincount(Z)\n",
    "print(\"The most frequent value is\", np.argmax(count))"
   ]
  },
  {
   "cell_type": "markdown",
   "id": "52cb07d4",
   "metadata": {},
   "source": [
    "**26. Write a function to return the n largest values of an array** "
   ]
  },
  {
   "cell_type": "code",
   "execution_count": 27,
   "id": "99a7f051",
   "metadata": {},
   "outputs": [
    {
     "name": "stdout",
     "output_type": "stream",
     "text": [
      "[9999 9998 9997 9996 9995]\n"
     ]
    }
   ],
   "source": [
    "def nlargest(a,n = 5):\n",
    "    # Include your solution here\n",
    "    a[::-1].sort()\n",
    "    answer = a[:n]\n",
    "    return answer\n",
    "\n",
    "Z = np.arange(10000)\n",
    "np.random.shuffle(Z)\n",
    "n = 5\n",
    "print(nlargest(Z,n))    "
   ]
  }
 ],
 "metadata": {
  "kernelspec": {
   "display_name": "Python 3 (ipykernel)",
   "language": "python",
   "name": "python3"
  },
  "language_info": {
   "codemirror_mode": {
    "name": "ipython",
    "version": 3
   },
   "file_extension": ".py",
   "mimetype": "text/x-python",
   "name": "python",
   "nbconvert_exporter": "python",
   "pygments_lexer": "ipython3",
   "version": "3.8.10"
  }
 },
 "nbformat": 4,
 "nbformat_minor": 5
}
