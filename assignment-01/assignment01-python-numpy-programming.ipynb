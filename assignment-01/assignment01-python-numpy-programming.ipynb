{
 "cells": [
  {
   "cell_type": "markdown",
   "id": "68f22a51",
   "metadata": {},
   "source": [
    "# Assignment #01\n",
    "\n",
    "This assignment is composed of multiple Python and NumPy programming exercises. The deliverable of this assignment is this jupyter-notebook completed with your solution.\n",
    "\n",
    "The delivery instructions are the following:\n",
    "    - Create a GitHub repository for your team. You are free to choose its name. This repository will be used to delvier the programming assignments and the code of your team's final project.\n",
    "    - Create a folder assignment-01 in the repository. Put the jupyter-notebook with your solution in this repository and post the repository link in your team's D2L dropbox for the assignment.\n",
    "\n",
    "You are being assessed based on:\n",
    "\n",
    "1. Code execution - 25% \n",
    "2. Clarity of the code (e.g., easy to follow, has pertinent comments, etc.) - 25%\n",
    "3. Proper usage of the techniques seen in class - 25%\n",
    "    - remember to avoid explicit Python loops!  \n",
    "4. Quality and correcteness of the results - 25%\n",
    "\n",
    "More details about the assessment are available in the rubric document in the class GitHub repository.\n",
    "\n",
    "Points distribution:\n",
    "- Question 2-21: 3 points per question \n",
    "- Questions 22-26: 8 points per question (total 40)\n",
    "- Total: 100 ponits"
   ]
  },
  {
   "cell_type": "code",
   "execution_count": 1,
   "id": "00feb81a",
   "metadata": {},
   "outputs": [],
   "source": [
    "import matplotlib.pylab as plt"
   ]
  },
  {
   "cell_type": "markdown",
   "id": "a829e3d1",
   "metadata": {},
   "source": [
    "**1. Import the numpy package under the name np**"
   ]
  },
  {
   "cell_type": "code",
   "execution_count": 2,
   "id": "dc2ed242",
   "metadata": {},
   "outputs": [],
   "source": [
    "import numpy as np"
   ]
  },
  {
   "cell_type": "markdown",
   "id": "66d9e94c",
   "metadata": {},
   "source": [
    "**2. Print the numpy version and the configuration**"
   ]
  },
  {
   "cell_type": "code",
   "execution_count": 3,
   "id": "8e1aa444",
   "metadata": {},
   "outputs": [
    {
     "name": "stdout",
     "output_type": "stream",
     "text": [
      "The numpy version is: \n",
      "1.20.3\n",
      "The numpy configuration is: \n",
      "blas_mkl_info:\n",
      "    libraries = ['mkl_rt']\n",
      "    library_dirs = ['C:/Users/Oluwajolasun/anaconda3\\\\Library\\\\lib']\n",
      "    define_macros = [('SCIPY_MKL_H', None), ('HAVE_CBLAS', None)]\n",
      "    include_dirs = ['C:/Users/Oluwajolasun/anaconda3\\\\Library\\\\include']\n",
      "blas_opt_info:\n",
      "    libraries = ['mkl_rt']\n",
      "    library_dirs = ['C:/Users/Oluwajolasun/anaconda3\\\\Library\\\\lib']\n",
      "    define_macros = [('SCIPY_MKL_H', None), ('HAVE_CBLAS', None)]\n",
      "    include_dirs = ['C:/Users/Oluwajolasun/anaconda3\\\\Library\\\\include']\n",
      "lapack_mkl_info:\n",
      "    libraries = ['mkl_rt']\n",
      "    library_dirs = ['C:/Users/Oluwajolasun/anaconda3\\\\Library\\\\lib']\n",
      "    define_macros = [('SCIPY_MKL_H', None), ('HAVE_CBLAS', None)]\n",
      "    include_dirs = ['C:/Users/Oluwajolasun/anaconda3\\\\Library\\\\include']\n",
      "lapack_opt_info:\n",
      "    libraries = ['mkl_rt']\n",
      "    library_dirs = ['C:/Users/Oluwajolasun/anaconda3\\\\Library\\\\lib']\n",
      "    define_macros = [('SCIPY_MKL_H', None), ('HAVE_CBLAS', None)]\n",
      "    include_dirs = ['C:/Users/Oluwajolasun/anaconda3\\\\Library\\\\include']\n",
      "None\n"
     ]
    }
   ],
   "source": [
    "print(\"The numpy version is: \")\n",
    "print( np.__version__)\n",
    "print(\"The numpy configuration is: \")\n",
    "print(np.show_config())"
   ]
  },
  {
   "cell_type": "markdown",
   "id": "768ce33e",
   "metadata": {},
   "source": [
    "**3. Create a 1D array of zeros of size 10 of type float32**"
   ]
  },
  {
   "cell_type": "code",
   "execution_count": 4,
   "id": "c8bf6a8f",
   "metadata": {},
   "outputs": [
    {
     "name": "stdout",
     "output_type": "stream",
     "text": [
      "[0. 0. 0. 0. 0. 0. 0. 0. 0. 0.]\n"
     ]
    }
   ],
   "source": [
    "array = np.zeros((10), dtype = 'float32')\n",
    "print(array)"
   ]
  },
  {
   "cell_type": "markdown",
   "id": "e9fddae6",
   "metadata": {},
   "source": [
    "**4. Print the memory size of the array below**"
   ]
  },
  {
   "cell_type": "code",
   "execution_count": 5,
   "id": "afc6eaed",
   "metadata": {},
   "outputs": [
    {
     "name": "stdout",
     "output_type": "stream",
     "text": [
      "The memory size of Z in bytes is:  3072\n"
     ]
    }
   ],
   "source": [
    "Z = np.zeros((32,12))\n",
    "# Include your solution below\n",
    "Z_mem = Z.size * Z.itemsize\n",
    "print(\"The memory size of Z in bytes is: \", Z_mem)"
   ]
  },
  {
   "cell_type": "markdown",
   "id": "e7aa512b",
   "metadata": {},
   "source": [
    "**5. Create a 1D array with values ranging from 10 to 58**"
   ]
  },
  {
   "cell_type": "code",
   "execution_count": 6,
   "id": "ab0c9957",
   "metadata": {},
   "outputs": [
    {
     "name": "stdout",
     "output_type": "stream",
     "text": [
      "[10 11 12 13 14 15 16 17 18 19 20 21 22 23 24 25 26 27 28 29 30 31 32 33\n",
      " 34 35 36 37 38 39 40 41 42 43 44 45 46 47 48 49 50 51 52 53 54 55 56 57\n",
      " 58]\n"
     ]
    }
   ],
   "source": [
    "array = np.arange(10,59)\n",
    "print(array)"
   ]
  },
  {
   "cell_type": "markdown",
   "id": "29010684",
   "metadata": {},
   "source": [
    "**6. Reverse the order of the values in the vector (first element becomes last)**"
   ]
  },
  {
   "cell_type": "code",
   "execution_count": 7,
   "id": "2b23334f",
   "metadata": {},
   "outputs": [
    {
     "name": "stdout",
     "output_type": "stream",
     "text": [
      "[9 8 7 6 5 4 3 2 1 0]\n"
     ]
    }
   ],
   "source": [
    "a = np.arange(10)\n",
    "# Include your solution below\n",
    "a = a[::-1]\n",
    "print(a)"
   ]
  },
  {
   "cell_type": "markdown",
   "id": "1df355b8",
   "metadata": {},
   "source": [
    "**7. Create a 3x3 matrix with values ranging from 0 to 8**"
   ]
  },
  {
   "cell_type": "code",
   "execution_count": 8,
   "id": "f8ff7cd8",
   "metadata": {},
   "outputs": [
    {
     "name": "stdout",
     "output_type": "stream",
     "text": [
      "[[0 1 2]\n",
      " [3 4 5]\n",
      " [6 7 8]]\n"
     ]
    }
   ],
   "source": [
    "array = np.arange(9)\n",
    "array = array.reshape(3,3)\n",
    "print(array)"
   ]
  },
  {
   "cell_type": "markdown",
   "id": "21496c11",
   "metadata": {},
   "source": [
    "**8. Create a 3x3 identity matrix**"
   ]
  },
  {
   "cell_type": "code",
   "execution_count": 9,
   "id": "b386ea94",
   "metadata": {},
   "outputs": [
    {
     "name": "stdout",
     "output_type": "stream",
     "text": [
      "[[1. 0. 0.]\n",
      " [0. 1. 0.]\n",
      " [0. 0. 1.]]\n"
     ]
    }
   ],
   "source": [
    "array = np.identity(3)\n",
    "print(array)"
   ]
  },
  {
   "cell_type": "markdown",
   "id": "6e27baa4",
   "metadata": {},
   "source": [
    "**9. Find and print the maximum values of each column in the array below** "
   ]
  },
  {
   "cell_type": "code",
   "execution_count": 10,
   "id": "fe1c1a8d",
   "metadata": {},
   "outputs": [
    {
     "name": "stdout",
     "output_type": "stream",
     "text": [
      "The oririginal array: \n",
      " [[0.52052658 0.37325086 0.08142449 0.4218132  0.55093684 0.1152161\n",
      "  0.63146037 0.85411494 0.14191507 0.5037615  0.08058587]\n",
      " [0.75924874 0.1541414  0.69139942 0.55127991 0.93426361 0.54028876\n",
      "  0.24721487 0.84033228 0.57695263 0.66220438 0.8846993 ]\n",
      " [0.90242107 0.02684962 0.78882042 0.99491064 0.5413376  0.10168245\n",
      "  0.63554623 0.20029596 0.03291615 0.0083305  0.78349749]\n",
      " [0.90426187 0.97008522 0.24023325 0.56134697 0.18456735 0.20436053\n",
      "  0.78282204 0.96894641 0.62005497 0.49869355 0.47584882]\n",
      " [0.64258522 0.66413187 0.62052802 0.28766899 0.55519585 0.38800588\n",
      "  0.85942403 0.68904723 0.7474954  0.68409329 0.10279399]\n",
      " [0.52957941 0.49768278 0.54192989 0.67129107 0.06071465 0.89368496\n",
      "  0.42885047 0.34203458 0.9181202  0.83294123 0.95680192]\n",
      " [0.6573479  0.24049831 0.32413961 0.03651154 0.98752043 0.76262674\n",
      "  0.44884281 0.05974125 0.50592982 0.21602559 0.2691422 ]\n",
      " [0.1449099  0.4147302  0.50368372 0.13884134 0.05566119 0.85115307\n",
      "  0.79699992 0.74551296 0.38293479 0.94954069 0.8676133 ]\n",
      " [0.78569713 0.85533271 0.95597198 0.20499321 0.72666436 0.10110617\n",
      "  0.49294143 0.37278689 0.0325643  0.39874895 0.33947511]\n",
      " [0.05590712 0.09595134 0.68472935 0.00691583 0.77240524 0.45518729\n",
      "  0.2840311  0.15198958 0.80761894 0.80239399 0.99589581]]\n",
      "\n",
      " The max values for each column are: \n",
      " [0.90426187 0.97008522 0.95597198 0.99491064 0.98752043 0.89368496\n",
      " 0.85942403 0.96894641 0.9181202  0.94954069 0.99589581]\n"
     ]
    }
   ],
   "source": [
    "Z = np.random.random((10,11))\n",
    "print( \"The oririginal array: \\n\", Z)\n",
    "# Include your solution below\n",
    "columnMaxes = np.amax(Z, axis = 0)\n",
    "print(\"\\n The max values for each column are: \\n\", columnMaxes)"
   ]
  },
  {
   "cell_type": "markdown",
   "id": "dd89c91f",
   "metadata": {},
   "source": [
    "**10. Create a $7 \\times 7$ array with 1s on the borders (first row and column, last row and columns) and 0s everywhere else**"
   ]
  },
  {
   "cell_type": "code",
   "execution_count": 11,
   "id": "0413deb1",
   "metadata": {},
   "outputs": [
    {
     "name": "stdout",
     "output_type": "stream",
     "text": [
      "[[1. 1. 1. 1. 1. 1. 1.]\n",
      " [1. 0. 0. 0. 0. 0. 1.]\n",
      " [1. 0. 0. 0. 0. 0. 1.]\n",
      " [1. 0. 0. 0. 0. 0. 1.]\n",
      " [1. 0. 0. 0. 0. 0. 1.]\n",
      " [1. 0. 0. 0. 0. 0. 1.]\n",
      " [1. 1. 1. 1. 1. 1. 1.]]\n"
     ]
    }
   ],
   "source": [
    "array = np.zeros((5,5))\n",
    "H,W = array.shape\n",
    "aux_array = np.ones((H+2, W+2))\n",
    "aux_array[1:-1,1:-1] = array\n",
    "print (aux_array)\n"
   ]
  },
  {
   "cell_type": "markdown",
   "id": "5456c5ae",
   "metadata": {},
   "source": [
    "**11. Pad the existing array below with zeros (i.e., add additional rows and columns with zeros). Use the NumPy pad function.**"
   ]
  },
  {
   "cell_type": "code",
   "execution_count": 12,
   "id": "54453777",
   "metadata": {},
   "outputs": [
    {
     "name": "stdout",
     "output_type": "stream",
     "text": [
      "[[0. 0. 0. 0. 0. 0. 0.]\n",
      " [0. 1. 1. 1. 1. 1. 0.]\n",
      " [0. 1. 1. 1. 1. 1. 0.]\n",
      " [0. 1. 1. 1. 1. 1. 0.]\n",
      " [0. 1. 1. 1. 1. 1. 0.]\n",
      " [0. 1. 1. 1. 1. 1. 0.]\n",
      " [0. 0. 0. 0. 0. 0. 0.]]\n"
     ]
    }
   ],
   "source": [
    "Z = np.ones((5,5))\n",
    "# Include your solution below\n",
    "padded_Z = np.pad(Z,(1,1))\n",
    "print(padded_Z)"
   ]
  },
  {
   "cell_type": "markdown",
   "id": "213571e0",
   "metadata": {},
   "source": [
    "**12. Extract the integer part of the random array of positive numbers below**"
   ]
  },
  {
   "cell_type": "code",
   "execution_count": 13,
   "id": "2d7209a2",
   "metadata": {},
   "outputs": [
    {
     "name": "stdout",
     "output_type": "stream",
     "text": [
      "[4.32576959 9.41085907 9.12750224 9.48101681 0.33262063 1.7498368\n",
      " 8.8409632  6.54929791 5.23222442 5.00111302]\n",
      "[4 9 9 9 0 2 9 7 5 5]\n"
     ]
    }
   ],
   "source": [
    "Z = np.random.uniform(0,10,10)\n",
    "# Include your solution below\n",
    "print(Z)\n",
    "Z_int = np.around(Z).astype(int)\n",
    "print(Z_int)"
   ]
  },
  {
   "cell_type": "markdown",
   "id": "ca235291",
   "metadata": {},
   "source": [
    "**13. Create a 5x5 matrix with rows with equal values ranging from 0 to 4 (i.e., [0,1,2,3,4])**\n",
    "\n",
    "*Hint:* consider using NumPy broadcasting or the tile function*"
   ]
  },
  {
   "cell_type": "code",
   "execution_count": 14,
   "id": "c3ab2b50",
   "metadata": {},
   "outputs": [
    {
     "name": "stdout",
     "output_type": "stream",
     "text": [
      "[[0 1 2 3 4]\n",
      " [0 1 2 3 4]\n",
      " [0 1 2 3 4]\n",
      " [0 1 2 3 4]\n",
      " [0 1 2 3 4]]\n"
     ]
    }
   ],
   "source": [
    "array = np.array([0,1,2,3,4])\n",
    "T = np.tile(array, (5,1))\n",
    "print(T)"
   ]
  },
  {
   "cell_type": "markdown",
   "id": "30d8179e",
   "metadata": {},
   "source": [
    "**14. Create a vector of size 10 with values ranging from 0 to 1 (0 and 1 not included)**\n",
    "\n",
    "*Hint: Consider using the linspace function*"
   ]
  },
  {
   "cell_type": "code",
   "execution_count": 15,
   "id": "1b546e08",
   "metadata": {},
   "outputs": [
    {
     "name": "stdout",
     "output_type": "stream",
     "text": [
      "[0.09090909 0.18181818 0.27272727 0.36363636 0.45454545 0.54545455\n",
      " 0.63636364 0.72727273 0.81818182 0.90909091]\n"
     ]
    }
   ],
   "source": [
    "vec = np.linspace(0, 1, endpoint=False, num=11)[1:]\n",
    "print(vec)"
   ]
  },
  {
   "cell_type": "markdown",
   "id": "d6ee753f",
   "metadata": {},
   "source": [
    "**15. Create a random vector of size 10 and sort it**"
   ]
  },
  {
   "cell_type": "code",
   "execution_count": 16,
   "id": "38d1ebd5",
   "metadata": {},
   "outputs": [
    {
     "name": "stdout",
     "output_type": "stream",
     "text": [
      "The Random Vector: \n",
      " [[0.05145183 0.96267706 0.74810027 0.1676914  0.73976431 0.27285146\n",
      "  0.6082776  0.42545752 0.58078615 0.75392182]]\n",
      "The Sorted Vector: \n",
      " [[0.05145183 0.1676914  0.27285146 0.42545752 0.58078615 0.6082776\n",
      "  0.73976431 0.74810027 0.75392182 0.96267706]]\n"
     ]
    }
   ],
   "source": [
    "vec = np.random.random((1,10))\n",
    "print(\"The Random Vector: \\n\", vec)\n",
    "sorted = np.sort(vec)\n",
    "print(\"The Sorted Vector: \\n\", sorted)"
   ]
  },
  {
   "cell_type": "markdown",
   "id": "bb4867cd",
   "metadata": {},
   "source": [
    "**16. Consider the cartesian coordinates below (X and Y), convert them to polar coordinates (R and T)**"
   ]
  },
  {
   "cell_type": "code",
   "execution_count": 17,
   "id": "c36c035b",
   "metadata": {},
   "outputs": [
    {
     "name": "stdout",
     "output_type": "stream",
     "text": [
      "Cartesian Coordinates: \n",
      " [[0.47125401 0.10481095]\n",
      " [0.99827388 0.45576542]\n",
      " [0.03957559 0.40433238]\n",
      " [0.83542643 0.95035299]\n",
      " [0.92516386 0.79578774]\n",
      " [0.08787088 0.6999586 ]\n",
      " [0.09238263 0.72372025]\n",
      " [0.02992841 0.41658537]\n",
      " [0.34460779 0.87204355]\n",
      " [0.74898949 0.12284787]]\n",
      "\n",
      "Polar Coordinates: \n",
      " [[0.48276876 0.21884655]\n",
      " [1.09739367 0.42829042]\n",
      " [0.40626457 1.47322826]\n",
      " [1.26534901 0.84966606]\n",
      " [1.22033041 0.71036223]\n",
      " [0.70545257 1.44591238]\n",
      " [0.72959273 1.44383331]\n",
      " [0.41765905 1.49907734]\n",
      " [0.93766437 1.19445835]\n",
      " [0.75899727 0.16257064]]\n"
     ]
    }
   ],
   "source": [
    "Z = np.random.random((10,2))\n",
    "X,Y = Z[:,0], Z[:,1]\n",
    "print(\"Cartesian Coordinates: \\n\", Z)\n",
    "# Include your solution below\n",
    "R = np.sqrt(X**2+Y**2)\n",
    "T = np.arctan2(Y,X)\n",
    "P = np.vstack((R, T)).T\n",
    "print(\"\\nPolar Coordinates: \\n\", P)"
   ]
  },
  {
   "cell_type": "markdown",
   "id": "dc98a40a",
   "metadata": {},
   "source": [
    "**17. Create random vector of size 10 and replace the maximum value by 0**"
   ]
  },
  {
   "cell_type": "code",
   "execution_count": 18,
   "id": "bd5af624",
   "metadata": {},
   "outputs": [
    {
     "name": "stdout",
     "output_type": "stream",
     "text": [
      "Random Vector: \n",
      " [[0.03810826 0.3907815  0.6799357  0.42065535 0.80182769 0.71953292\n",
      "  0.17401425 0.88914811 0.85465142 0.65964365]]\n",
      "\n",
      "Max value Replaced with 0: \n",
      " [[0.03810826 0.3907815  0.6799357  0.42065535 0.80182769 0.71953292\n",
      "  0.17401425 0.         0.85465142 0.65964365]]\n"
     ]
    }
   ],
   "source": [
    "vec = np.random.random((1,10))\n",
    "M = np.amax(vec, axis=1)\n",
    "print(\"Random Vector: \\n\", vec)\n",
    "new_vec = np.where(np.isin(vec, M), 0, vec)\n",
    "print(\"\\nMax value Replaced with 0: \\n\", new_vec)"
   ]
  },
  {
   "cell_type": "markdown",
   "id": "9366978e",
   "metadata": {},
   "source": [
    "**18. Find the nearest value from a given value (z) in an array (Z)**"
   ]
  },
  {
   "cell_type": "code",
   "execution_count": 19,
   "id": "402dd2c2",
   "metadata": {},
   "outputs": [
    {
     "name": "stdout",
     "output_type": "stream",
     "text": [
      "Original Array: \n",
      " [0.95395354 0.75315491 0.0824875  0.1374269  0.12290675 0.00809843\n",
      " 0.2976936  0.28018473 0.40852913 0.13240571]\n",
      "\n",
      "Closest Value to  0.5 : 0.4085291291357531\n"
     ]
    }
   ],
   "source": [
    "Z = np.random.uniform(0,1,10)\n",
    "z = 0.5\n",
    "# Include your solution below\n",
    "print(\"Original Array: \\n\", Z)\n",
    "N = Z[abs(Z - z).argmin()]\n",
    "print(\"\\nClosest Value to \", z, \":\", N)"
   ]
  },
  {
   "cell_type": "markdown",
   "id": "f7200eb4",
   "metadata": {},
   "source": [
    "**19. Consider the vector [5, 4, 3, 2, 1], how to build a new vector with 3 consecutive zeros interleaved between each value?**"
   ]
  },
  {
   "cell_type": "code",
   "execution_count": 20,
   "id": "cdf469b9",
   "metadata": {},
   "outputs": [
    {
     "data": {
      "text/plain": [
       "array([5., 0., 0., 0., 4., 0., 0., 0., 3., 0., 0., 0., 2., 0., 0., 0., 1.])"
      ]
     },
     "execution_count": 20,
     "metadata": {},
     "output_type": "execute_result"
    }
   ],
   "source": [
    "Z = np.arange(5)[::-1]\n",
    "# Include your solution below\n",
    "\n",
    "# print (Z + 1)\n",
    "Z = Z + 1\n",
    "\n",
    "zero_between = 3\n",
    "new_Z = np.zeros(len(Z) + (len(Z)-1)*(zero_between))\n",
    "new_Z[::zero_between+1] = Z\n",
    "new_Z"
   ]
  },
  {
   "cell_type": "markdown",
   "id": "d3933416",
   "metadata": {},
   "source": [
    "**20. Consider an array of dimension (5,5,3), how to mulitply it element-wise by an array with dimensions (5,5) - i.e., (5,5,0)$\\times$(5,5), (5,5,1)$\\times$(5,5), (5,5,2)$\\times$(5,5)**"
   ]
  },
  {
   "cell_type": "code",
   "execution_count": 21,
   "id": "829e595b",
   "metadata": {},
   "outputs": [
    {
     "data": {
      "text/plain": [
       "array([[[2., 2., 2.],\n",
       "        [2., 2., 2.],\n",
       "        [2., 2., 2.],\n",
       "        [2., 2., 2.],\n",
       "        [2., 2., 2.]],\n",
       "\n",
       "       [[2., 2., 2.],\n",
       "        [2., 2., 2.],\n",
       "        [2., 2., 2.],\n",
       "        [2., 2., 2.],\n",
       "        [2., 2., 2.]],\n",
       "\n",
       "       [[2., 2., 2.],\n",
       "        [2., 2., 2.],\n",
       "        [2., 2., 2.],\n",
       "        [2., 2., 2.],\n",
       "        [2., 2., 2.]],\n",
       "\n",
       "       [[2., 2., 2.],\n",
       "        [2., 2., 2.],\n",
       "        [2., 2., 2.],\n",
       "        [2., 2., 2.],\n",
       "        [2., 2., 2.]],\n",
       "\n",
       "       [[2., 2., 2.],\n",
       "        [2., 2., 2.],\n",
       "        [2., 2., 2.],\n",
       "        [2., 2., 2.],\n",
       "        [2., 2., 2.]]])"
      ]
     },
     "execution_count": 21,
     "metadata": {},
     "output_type": "execute_result"
    }
   ],
   "source": [
    "A = np.ones((5,5,3))\n",
    "B = 2*np.ones((5,5))\n",
    "# Include your solution below\n",
    "\n",
    "# print (A)\n",
    "# print (B)\n",
    "A * B[:,:,None]"
   ]
  },
  {
   "cell_type": "markdown",
   "id": "b8e383e0",
   "metadata": {},
   "source": [
    "**21. Swap the first and second rows of the 2D array below**"
   ]
  },
  {
   "cell_type": "code",
   "execution_count": 22,
   "id": "b016f45c",
   "metadata": {},
   "outputs": [
    {
     "name": "stdout",
     "output_type": "stream",
     "text": [
      "[[ 0  1  2  3  4]\n",
      " [ 5  6  7  8  9]\n",
      " [10 11 12 13 14]\n",
      " [15 16 17 18 19]\n",
      " [20 21 22 23 24]\n",
      " [25 26 27 28 29]]\n",
      "\n",
      "[[ 5  6  7  8  9]\n",
      " [ 0  1  2  3  4]\n",
      " [10 11 12 13 14]\n",
      " [15 16 17 18 19]\n",
      " [20 21 22 23 24]\n",
      " [25 26 27 28 29]]\n"
     ]
    }
   ],
   "source": [
    "W = np.arange(30).reshape(6,5)\n",
    "print(W)\n",
    "print()\n",
    "# Include your solution \n",
    "W[[1,0]] = W[[0,1]]\n",
    "print(W)\n"
   ]
  },
  {
   "cell_type": "markdown",
   "id": "53a6f289",
   "metadata": {},
   "source": [
    "**22. Write a function that receives as input a 2D Boolean NumPy array and outputs the coordinates of the minimal bounding-box\n",
    "that encloses all non-zero elements in the input array**\n",
    "\n",
    "**Tip:** search for the functions nonzero and where in the NumPy documentation.\n",
    "\n",
    "\n",
    "<img src=\"../Figures/bbox.png\" width=\"150\" /> "
   ]
  },
  {
   "cell_type": "code",
   "execution_count": 37,
   "id": "9c506e2d",
   "metadata": {},
   "outputs": [
    {
     "name": "stdout",
     "output_type": "stream",
     "text": [
      "((29, 50), (342, 431))\n"
     ]
    },
    {
     "data": {
      "image/png": "[encoded data removed]",
      "text/plain": [
       "<Figure size 432x288 with 1 Axes>"
      ]
     },
     "metadata": {
      "needs_background": "light"
     },
     "output_type": "display_data"
    }
   ],
   "source": [
    "def bbox(img):\n",
    "    #include your solution below\n",
    "\n",
    "    rows = np.any(img, axis=1)\n",
    "    cols = np.any(img, axis=0)\n",
    "    r1, r2 = np.where(rows)[0][[0, -1]] \n",
    "    c1, c2 = np.where(cols)[0][[0, -1]] \n",
    "    return (r1,c1),(r2,c2)\n",
    "\n",
    "from PIL import Image\n",
    "\n",
    "img = np.array(Image.open('../Figures/bin_image.png'))\n",
    "# img = np.array(Image.open('../Figures/bin_image.png').convert('L')) > 0\n",
    "print(bbox(img))\n",
    "\n",
    "figure, axis = plt.subplots()\n",
    "axis.imshow(img)\n",
    "plt.show()\n",
    "\n",
    "\n"
   ]
  },
  {
   "cell_type": "markdown",
   "id": "466b3e0f",
   "metadata": {},
   "source": [
    "**23.Write a function to compute the average over a sliding window of length N over a 1D array?**\n",
    "\n",
    "*Example:* [1,2,3,4,5,6,7,8,9], N = 3 -> [2,5,8]"
   ]
  },
  {
   "cell_type": "code",
   "execution_count": 38,
   "id": "26726ad0",
   "metadata": {},
   "outputs": [
    {
     "name": "stdout",
     "output_type": "stream",
     "text": [
      "None\n"
     ]
    }
   ],
   "source": [
    "def moving_average(x,N = 3):\n",
    "    #define your function here\n",
    "    return\n",
    "\n",
    "a = np.arange(30)\n",
    "N = 3\n",
    "print(moving_average(a,N))"
   ]
  },
  {
   "cell_type": "markdown",
   "id": "12039f38",
   "metadata": {},
   "source": [
    "**24.  Given a sorted 1D array C that corresponds to a bincount, how to produce an array A such that np.bincount(A) == C?**\n",
    "\n",
    "*Example:* C = [3,2,4] -> D = [0,0,0,1,1,2,2,2,2]\n",
    "\n",
    "*Tip:* Consider using the NumPy repeat function"
   ]
  },
  {
   "cell_type": "code",
   "execution_count": 70,
   "id": "2879e113",
   "metadata": {},
   "outputs": [
    {
     "name": "stdout",
     "output_type": "stream",
     "text": [
      "[0 2 1 1 2 0 1]\n",
      "[1 1 2 3 4 4 6]\n"
     ]
    }
   ],
   "source": [
    "C = np.bincount([1,1,2,3,4,4,6])\n",
    "print(C)\n",
    "# Include yoru solution here\n",
    "\n",
    "A = np.repeat(np.arange(len(C)),C)\n",
    "print (A)"
   ]
  },
  {
   "cell_type": "markdown",
   "id": "dbf7a791",
   "metadata": {},
   "source": [
    "**25. Find the most frequent value in the array below?**"
   ]
  },
  {
   "cell_type": "code",
   "execution_count": 68,
   "id": "b6eb432f",
   "metadata": {},
   "outputs": [
    {
     "name": "stdout",
     "output_type": "stream",
     "text": [
      "[5 1 3 7 0 5 1 3 0 5 2 0 5 7 9 5 2 5 5 8 9 0 6 0 5 2 1 8 9 6 4 6 2 8 3 3 0\n",
      " 3 5 9 1 1 5 4 8 4 8 4 0 8]\n",
      "The most frequent value is 5\n"
     ]
    }
   ],
   "source": [
    "Z = np.random.randint(0,10,50)\n",
    "print(Z)\n",
    "# Include your solution below\n",
    "count = np.bincount(Z)\n",
    "print(\"The most frequent value is\", np.argmax(count))"
   ]
  },
  {
   "cell_type": "markdown",
   "id": "52cb07d4",
   "metadata": {},
   "source": [
    "**26. Write a function to return the n largest values of an array** "
   ]
  },
  {
   "cell_type": "code",
   "execution_count": 54,
   "id": "99a7f051",
   "metadata": {},
   "outputs": [
    {
     "name": "stdout",
     "output_type": "stream",
     "text": [
      "[9999 9998 9997 9996 9995]\n"
     ]
    }
   ],
   "source": [
    "def nlargest(a,n = 5):\n",
    "    # Include your solution here\n",
    "    a[::-1].sort()\n",
    "    answer = a[:n]\n",
    "    return answer\n",
    "\n",
    "Z = np.arange(10000)\n",
    "np.random.shuffle(Z)\n",
    "n = 5\n",
    "print(nlargest(Z,n))    "
   ]
  },
  {
   "cell_type": "code",
   "execution_count": null,
   "id": "2c01d1a8-b993-4d11-9b33-ca77a47a978f",
   "metadata": {},
   "outputs": [],
   "source": []
  }
 ],
 "metadata": {
  "kernelspec": {
   "display_name": "Python 3 (ipykernel)",
   "language": "python",
   "name": "python3"
  },
  "language_info": {
   "codemirror_mode": {
    "name": "ipython",
    "version": 3
   },
   "file_extension": ".py",
   "mimetype": "text/x-python",
   "name": "python",
   "nbconvert_exporter": "python",
   "pygments_lexer": "ipython3",
   "version": "3.9.7"
  }
 },
 "nbformat": 4,
 "nbformat_minor": 5
}
